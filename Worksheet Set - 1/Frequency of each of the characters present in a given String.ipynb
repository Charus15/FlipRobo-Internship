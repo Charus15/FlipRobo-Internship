{
 "cells": [
  {
   "cell_type": "code",
   "execution_count": 5,
   "id": "3aedabbe",
   "metadata": {},
   "outputs": [
    {
     "name": "stdout",
     "output_type": "stream",
     "text": [
      "Enter the string: Hello world\n",
      "Please enter the char to find frequency of ta character\n",
      "o\n",
      "The frequency of the  o in the string is:  2\n"
     ]
    }
   ],
   "source": [
    "string=input(\"Enter the string: \")\n",
    "char=input(\"Please enter the char to find frequency of ta character\\n\")\n",
    "count=0\n",
    "for i in range(len(string)):\n",
    "    if(string[i]==char):\n",
    "        count=count+1\n",
    "print(\"The frequency of the \",char,\"in the string is: \",count)"
   ]
  },
  {
   "cell_type": "code",
   "execution_count": null,
   "id": "3d25173d",
   "metadata": {},
   "outputs": [],
   "source": []
  }
 ],
 "metadata": {
  "kernelspec": {
   "display_name": "Python 3 (ipykernel)",
   "language": "python",
   "name": "python3"
  },
  "language_info": {
   "codemirror_mode": {
    "name": "ipython",
    "version": 3
   },
   "file_extension": ".py",
   "mimetype": "text/x-python",
   "name": "python",
   "nbconvert_exporter": "python",
   "pygments_lexer": "ipython3",
   "version": "3.9.12"
  }
 },
 "nbformat": 4,
 "nbformat_minor": 5
}
